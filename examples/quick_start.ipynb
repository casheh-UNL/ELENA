{
 "cells": [
  {
   "cell_type": "code",
   "execution_count": 2,
   "id": "8942e452",
   "metadata": {},
   "outputs": [
    {
     "name": "stdout",
     "output_type": "stream",
     "text": [
      "At T = 40 MeV: \n",
      "\n",
      "S3/T = 884.51, \n",
      "ϕ_true = 499.52 MeV, \n",
      "ϕ_false = 0.00 MeV, \n",
      "V(ϕ_true) = -1.22e+07 MeV^4, \n",
      "ϕ_0 = 314.50 MeV, \n",
      "V(ϕ_0) = -5.22e+06 MeV^4.\n"
     ]
    }
   ],
   "source": [
    "import sys\n",
    "import os\n",
    "from pathlib import Path\n",
    "\n",
    "# Get the directory of the current script\n",
    "script_dir = Path(os.getcwd()).resolve()\n",
    "\n",
    "# Add the src directory to the Python path\n",
    "sys.path.append(str(Path(script_dir / '../src').resolve()))\n",
    "\n",
    "from utils import convert_units\n",
    "from model import model\n",
    "from espinosa import Vt_vec\n",
    "\n",
    "# This selects a pair of couplings for which we expect a first-order phase transition over large intervals of vevs\n",
    "lambda_ = 1.65e-3\n",
    "g = 0.54\n",
    "vev, units = 500, \"MeV\"\n",
    "\n",
    "# This constructs the finite-temperature potential as an instance of the class model. \n",
    "dp = model(vev, lambda_, g, xstep= vev * 1e-3, Tstep=vev * 1e-3)\n",
    "V = dp.DVtot # This is the scalar potential shifted such that the false vacuum is located at ϕ = 0 for each value of the temperature\n",
    "dV = dp.gradV # This is the gradient of the scalar potential\n",
    "\n",
    "T = 40 # Example temperature in the chosen units (\"MeV\")\n",
    "instance = Vt_vec(T, V, dV, step_phi = 1e-3, precision = 1e-3, vev0 = vev, ratio_vev_step0=50) # Computation at temperature T\n",
    "\n",
    "if instance.barrier:\n",
    "    print(\n",
    "    f\"At T = {T} {units}: \\n\\n\"\n",
    "    f\"S3/T = {instance.action_over_T:.2f}, \\n\"\n",
    "    f\"ϕ_true = {instance.true_min:.2f} {units}, \\n\"\n",
    "    f\"ϕ_false = {instance.phi_original_false_vev:.2f} {units}, \\n\"\n",
    "    f\"V(ϕ_true) = {instance.min_V:.2e} {units}^4, \\n\"\n",
    "    f\"ϕ_0 = {instance.phi0_min:.2f} {units}, \\n\"\n",
    "    f\"V(ϕ_0) = {instance.V_exit[0]:.2e} {units}^4.\"\n",
    ")\n",
    "else:\n",
    "    print(\"No barrier found at this temperature.\")"
   ]
  }
 ],
 "metadata": {
  "kernelspec": {
   "display_name": "elena",
   "language": "python",
   "name": "python3"
  },
  "language_info": {
   "codemirror_mode": {
    "name": "ipython",
    "version": 3
   },
   "file_extension": ".py",
   "mimetype": "text/x-python",
   "name": "python",
   "nbconvert_exporter": "python",
   "pygments_lexer": "ipython3",
   "version": "3.13.5"
  }
 },
 "nbformat": 4,
 "nbformat_minor": 5
}
